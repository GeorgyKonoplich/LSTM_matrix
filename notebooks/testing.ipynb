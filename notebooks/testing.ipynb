{
 "cells": [
  {
   "cell_type": "code",
   "execution_count": 1,
   "metadata": {
    "collapsed": false
   },
   "outputs": [
    {
     "data": {
      "application/javascript": [
       "IPython.notebook.set_autosave_interval(10000)"
      ]
     },
     "metadata": {},
     "output_type": "display_data"
    },
    {
     "name": "stdout",
     "output_type": "stream",
     "text": [
      "Autosaving every 10 seconds\n"
     ]
    },
    {
     "name": "stderr",
     "output_type": "stream",
     "text": [
      "Using Theano backend.\n",
      "Using gpu device 2: Tesla K80 (CNMeM is enabled with initial size: 95.0% of memory, cuDNN 4007)\n"
     ]
    }
   ],
   "source": [
    "%matplotlib inline\n",
    "%load_ext autoreload\n",
    "%autoreload 2\n",
    "%autosave 10\n",
    "\n",
    "gpu_id='gpu2'\n",
    "import os\n",
    "os.environ[\"THEANO_FLAGS\"] = \"device=\"+gpu_id +\",lib.cnmem=1\"\n",
    "\n",
    "import numpy as np\n",
    "from keras.layers.advanced_activations import SReLU\n",
    "from keras import callbacks as ckbs\n",
    "import random\n",
    "import time\n",
    "import gzip\n",
    "from keras.models import model_from_json\n",
    "import pickle as pkl\n",
    "import keras\n",
    "from keras.models import Sequential\n",
    "from keras.layers.core import *\n",
    "from keras.layers.wrappers import *\n",
    "from keras.optimizers import *\n",
    "from keras.utils import np_utils\n",
    "from keras.layers.embeddings import Embedding\n",
    "from keras.layers import LSTM\n",
    "from docutils.languages.af import labels\n",
    "from sklearn.model_selection import train_test_split\n",
    "from sklearn.preprocessing import OneHotEncoder"
   ]
  },
  {
   "cell_type": "code",
   "execution_count": 2,
   "metadata": {
    "collapsed": true
   },
   "outputs": [],
   "source": [
    "f = gzip.open('../data/processed/pkl_short/embeddings.pkl.gz', 'rb')\n",
    "embeddings = pkl.load(f)\n",
    "f.close()\n",
    "\n",
    "label2Idx = embeddings['label2Idx']\n",
    "\n",
    "#Inverse label mapping\n",
    "idx2Label = {v: k for k, v in label2Idx.items()}\n",
    "\n",
    "f = gzip.open('../data/processed/pkl/data.pkl.gz', 'rb')\n",
    "test_data = pkl.load(f)\n",
    "dev_data = pkl.load(f)\n",
    "wiki_data = pkl.load(f)\n",
    "f.close()\n",
    "\n",
    "n_out = len(label2Idx)"
   ]
  },
  {
   "cell_type": "code",
   "execution_count": 6,
   "metadata": {
    "collapsed": true
   },
   "outputs": [],
   "source": [
    "def get_data_for_testing(matrix, target):\n",
    "   \n",
    "    train_samples = int(matrix.shape[0]*1)\n",
    "    X_train = matrix[:train_samples]\n",
    "    X_test = matrix[train_samples:]\n",
    "        \n",
    "    y_train = target[:train_samples]\n",
    "    y_test = target[train_samples:]\n",
    "        \n",
    "    \n",
    "    \n",
    "    return  [X_train[:,:,i] for i in range(X_train.shape[2])], \\\n",
    "            y_train"
   ]
  },
  {
   "cell_type": "code",
   "execution_count": 4,
   "metadata": {
    "collapsed": true
   },
   "outputs": [],
   "source": [
    "def load_neural_network(file_from):\n",
    "    (nn_arch, nn_weights_path) = pkl.load(open(file_from, 'rb'))\n",
    "    nn = model_from_json(nn_arch)\n",
    "    nn.set_weights(nn_weights_path)\n",
    "    return nn"
   ]
  },
  {
   "cell_type": "code",
   "execution_count": 8,
   "metadata": {
    "collapsed": true
   },
   "outputs": [],
   "source": [
    "def get_data(data):\n",
    "    print( \"%d test size\" % len(data))\n",
    "    data = np.array(data)\n",
    "    print(data.shape)\n",
    "    X = [x[0] for x in data]\n",
    "    y = [x[1][0] for x in data]\n",
    "    return np.array(X), np.array(y)"
   ]
  },
  {
   "cell_type": "code",
   "execution_count": 10,
   "metadata": {
    "collapsed": false
   },
   "outputs": [
    {
     "name": "stdout",
     "output_type": "stream",
     "text": [
      "59381 test size\n",
      "(59381, 2)\n"
     ]
    }
   ],
   "source": [
    "from sklearn.metrics import classification_report\n",
    "X_test,y_test = get_data(test_data)\n",
    "X_test,y_test = get_data_for_testing(X_test,y_test)"
   ]
  },
  {
   "cell_type": "markdown",
   "metadata": {},
   "source": [
    "This function load model and make test (classification report)"
   ]
  },
  {
   "cell_type": "code",
   "execution_count": 26,
   "metadata": {
    "collapsed": false
   },
   "outputs": [],
   "source": [
    "def process(model_name):\n",
    "    model = load_neural_network('../models/' + model_name)\n",
    "    pred = model.predict_classes(X_test, batch_size=128, verbose=1)\n",
    "    target_names = [idx2Label[1], idx2Label[0], idx2Label[2], idx2Label[3]]\n",
    "    print(classification_report(y_test, pred, target_names=target_names))\n",
    "    return model"
   ]
  },
  {
   "cell_type": "code",
   "execution_count": 21,
   "metadata": {
    "collapsed": false
   },
   "outputs": [
    {
     "name": "stdout",
     "output_type": "stream",
     "text": [
      "59381/59381 [==============================] - 24s    \n",
      "             precision    recall  f1-score   support\n",
      "\n",
      "          0       0.45      0.73      0.56      1591\n",
      "          1       0.96      0.98      0.97     51936\n",
      "          2       0.87      0.69      0.77      2106\n",
      "          3       0.64      0.34      0.45      3748\n",
      "\n",
      "avg / total       0.92      0.92      0.92     59381\n",
      "\n"
     ]
    }
   ],
   "source": [
    "process('new1')"
   ]
  },
  {
   "cell_type": "code",
   "execution_count": 23,
   "metadata": {
    "collapsed": false
   },
   "outputs": [
    {
     "name": "stdout",
     "output_type": "stream",
     "text": [
      "59381/59381 [==============================] - 20s    \n",
      "             precision    recall  f1-score   support\n",
      "\n",
      "          0       0.61      0.56      0.58      1591\n",
      "          1       0.95      0.98      0.96     51936\n",
      "          2       0.74      0.82      0.78      2106\n",
      "          3       0.64      0.36      0.46      3748\n",
      "\n",
      "avg / total       0.91      0.92      0.92     59381\n",
      "\n"
     ]
    }
   ],
   "source": [
    "process('new4')"
   ]
  },
  {
   "cell_type": "code",
   "execution_count": 24,
   "metadata": {
    "collapsed": false
   },
   "outputs": [
    {
     "name": "stdout",
     "output_type": "stream",
     "text": [
      "59381/59381 [==============================] - 20s    \n",
      "             precision    recall  f1-score   support\n",
      "\n",
      "          0       0.56      0.52      0.54      1591\n",
      "          1       0.95      0.98      0.97     51936\n",
      "          2       0.80      0.63      0.70      2106\n",
      "          3       0.53      0.38      0.44      3748\n",
      "\n",
      "avg / total       0.91      0.92      0.91     59381\n",
      "\n"
     ]
    }
   ],
   "source": [
    "process('new2')"
   ]
  },
  {
   "cell_type": "code",
   "execution_count": 28,
   "metadata": {
    "collapsed": false
   },
   "outputs": [
    {
     "name": "stdout",
     "output_type": "stream",
     "text": [
      "59381/59381 [==============================] - 20s    \n",
      "             precision    recall  f1-score   support\n",
      "\n",
      "        ORG       0.61      0.68      0.64      1591\n",
      "          O       0.95      0.98      0.97     51936\n",
      "        PER       0.81      0.83      0.82      2106\n",
      "        LOC       0.68      0.31      0.43      3748\n",
      "\n",
      "avg / total       0.92      0.93      0.92     59381\n",
      "\n"
     ]
    }
   ],
   "source": [
    "m = process('new5')"
   ]
  },
  {
   "cell_type": "code",
   "execution_count": 29,
   "metadata": {
    "collapsed": false
   },
   "outputs": [
    {
     "name": "stdout",
     "output_type": "stream",
     "text": [
      "____________________________________________________________________________________________________\n",
      "Layer (type)                     Output Shape          Param #     Connected to                     \n",
      "====================================================================================================\n",
      "embedding_101 (Embedding)        (None, 33, 300)       1903200                                      \n",
      "____________________________________________________________________________________________________\n",
      "embedding_102 (Embedding)        (None, 33, 300)       915300                                       \n",
      "____________________________________________________________________________________________________\n",
      "embedding_103 (Embedding)        (None, 33, 300)       265200                                       \n",
      "____________________________________________________________________________________________________\n",
      "embedding_104 (Embedding)        (None, 33, 10)        1020                                         \n",
      "____________________________________________________________________________________________________\n",
      "embedding_105 (Embedding)        (None, 33, 300)       2399100                                      \n",
      "____________________________________________________________________________________________________\n",
      "embedding_106 (Embedding)        (None, 33, 300)       1064700                                      \n",
      "____________________________________________________________________________________________________\n",
      "embedding_107 (Embedding)        (None, 33, 300)       277200                                       \n",
      "____________________________________________________________________________________________________\n",
      "embedding_108 (Embedding)        (None, 33, 10)        1040                                         \n",
      "____________________________________________________________________________________________________\n",
      "embedding_109 (Embedding)        (None, 33, 300)       5589300                                      \n",
      "____________________________________________________________________________________________________\n",
      "embedding_110 (Embedding)        (None, 33, 3)         81                                           \n",
      "____________________________________________________________________________________________________\n",
      "embedding_111 (Embedding)        (None, 33, 3)         195                                          \n",
      "____________________________________________________________________________________________________\n",
      "embedding_112 (Embedding)        (None, 33, 3)         99                                           \n",
      "____________________________________________________________________________________________________\n",
      "embedding_113 (Embedding)        (None, 33, 300)       3257100                                      \n",
      "____________________________________________________________________________________________________\n",
      "embedding_114 (Embedding)        (None, 33, 3)         9                                            \n",
      "____________________________________________________________________________________________________\n",
      "embedding_115 (Embedding)        (None, 33, 3)         9                                            \n",
      "____________________________________________________________________________________________________\n",
      "embedding_116 (Embedding)        (None, 33, 3)         9                                            \n",
      "____________________________________________________________________________________________________\n",
      "embedding_117 (Embedding)        (None, 33, 3)         9                                            \n",
      "____________________________________________________________________________________________________\n",
      "embedding_118 (Embedding)        (None, 33, 3)         9                                            \n",
      "____________________________________________________________________________________________________\n",
      "embedding_119 (Embedding)        (None, 33, 3)         9                                            \n",
      "____________________________________________________________________________________________________\n",
      "embedding_120 (Embedding)        (None, 33, 3)         9                                            \n",
      "____________________________________________________________________________________________________\n",
      "embedding_121 (Embedding)        (None, 33, 3)         9                                            \n",
      "____________________________________________________________________________________________________\n",
      "embedding_122 (Embedding)        (None, 33, 300)       111600                                       \n",
      "____________________________________________________________________________________________________\n",
      "embedding_123 (Embedding)        (None, 33, 300)       6348900                                      \n",
      "____________________________________________________________________________________________________\n",
      "embedding_124 (Embedding)        (None, 33, 10)        1800                                         \n",
      "____________________________________________________________________________________________________\n",
      "embedding_125 (Embedding)        (None, 33, 10)        1830                                         \n",
      "____________________________________________________________________________________________________\n",
      "lstm_6 (LSTM)                    (None, 100)           1269600     merge_5[0][0]                    \n",
      "____________________________________________________________________________________________________\n",
      "dense_6 (Dense)                  (None, 4)             404         lstm_6[0][0]                     \n",
      "====================================================================================================\n",
      "Total params: 23407741\n",
      "____________________________________________________________________________________________________\n"
     ]
    }
   ],
   "source": [
    "m.summary()"
   ]
  },
  {
   "cell_type": "code",
   "execution_count": 30,
   "metadata": {
    "collapsed": false
   },
   "outputs": [
    {
     "name": "stdout",
     "output_type": "stream",
     "text": [
      "59381/59381 [==============================] - 21s    \n",
      "             precision    recall  f1-score   support\n",
      "\n",
      "        ORG       0.41      0.77      0.53      1591\n",
      "          O       0.97      0.96      0.97     51936\n",
      "        PER       0.79      0.79      0.79      2106\n",
      "        LOC       0.56      0.38      0.46      3748\n",
      "\n",
      "avg / total       0.92      0.92      0.92     59381\n",
      "\n"
     ]
    }
   ],
   "source": [
    "m = process('new6')"
   ]
  },
  {
   "cell_type": "code",
   "execution_count": null,
   "metadata": {
    "collapsed": true
   },
   "outputs": [],
   "source": []
  }
 ],
 "metadata": {
  "kernelspec": {
   "display_name": "Python 3",
   "language": "python",
   "name": "python3"
  },
  "language_info": {
   "codemirror_mode": {
    "name": "ipython",
    "version": 3
   },
   "file_extension": ".py",
   "mimetype": "text/x-python",
   "name": "python",
   "nbconvert_exporter": "python",
   "pygments_lexer": "ipython3",
   "version": "3.4.3"
  }
 },
 "nbformat": 4,
 "nbformat_minor": 2
}
