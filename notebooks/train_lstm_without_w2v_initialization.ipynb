{
 "cells": [
  {
   "cell_type": "code",
   "execution_count": 2,
   "metadata": {
    "collapsed": false
   },
   "outputs": [
    {
     "name": "stderr",
     "output_type": "stream",
     "text": [
      "/home/sag/src_George/workspace/virtualenv/lib/python3.4/site-packages/matplotlib/font_manager.py:273: UserWarning: Matplotlib is building the font cache using fc-list. This may take a moment.\n",
      "  warnings.warn('Matplotlib is building the font cache using fc-list. This may take a moment.')\n",
      "/home/sag/src_George/workspace/virtualenv/lib/python3.4/site-packages/matplotlib/font_manager.py:273: UserWarning: Matplotlib is building the font cache using fc-list. This may take a moment.\n",
      "  warnings.warn('Matplotlib is building the font cache using fc-list. This may take a moment.')\n"
     ]
    },
    {
     "data": {
      "application/javascript": [
       "IPython.notebook.set_autosave_interval(10000)"
      ]
     },
     "metadata": {},
     "output_type": "display_data"
    },
    {
     "name": "stdout",
     "output_type": "stream",
     "text": [
      "Autosaving every 10 seconds\n"
     ]
    },
    {
     "name": "stderr",
     "output_type": "stream",
     "text": [
      "/home/sag/src_George/workspace/virtualenv/lib/python3.4/site-packages/gensim/utils.py:1015: UserWarning: Pattern library is not installed, lemmatization won't be available.\n",
      "  warnings.warn(\"Pattern library is not installed, lemmatization won't be available.\")\n",
      "/home/sag/src_George/workspace/virtualenv/lib/python3.4/site-packages/sklearn/cross_validation.py:44: DeprecationWarning: This module was deprecated in version 0.18 in favor of the model_selection module into which all the refactored classes and functions are moved. Also note that the interface of the new CV iterators are different from that of this module. This module will be removed in 0.20.\n",
      "  \"This module will be removed in 0.20.\", DeprecationWarning)\n",
      "/home/sag/src_George/workspace/virtualenv/lib/python3.4/site-packages/sklearn/grid_search.py:43: DeprecationWarning: This module was deprecated in version 0.18 in favor of the model_selection module into which all the refactored classes and functions are moved. This module will be removed in 0.20.\n",
      "  DeprecationWarning)\n"
     ]
    }
   ],
   "source": [
    "%matplotlib inline\n",
    "%load_ext autoreload\n",
    "%autoreload 2\n",
    "%autosave 10\n",
    "\n",
    "import pickle\n",
    "import sys, os\n",
    "sys.setrecursionlimit(10000)\n",
    "\n",
    "\n",
    "import gensim\n",
    "import pandas as pd\n",
    "import scipy as sp\n",
    "import numpy as np\n",
    "import matplotlib.pyplot as plt\n",
    "\n",
    "import warnings\n",
    "warnings.filterwarnings(\"ignore\")\n",
    "\n",
    "from sklearn.preprocessing import OneHotEncoder\n",
    "from sklearn.cross_validation import train_test_split, ShuffleSplit\n",
    "from sklearn.metrics import classification_report, precision_recall_fscore_support, accuracy_score\n",
    "from sklearn.grid_search import GridSearchCV, ParameterGrid\n",
    "\n",
    "from sklearn.externals.joblib import load, dump\n",
    "from sklearn.metrics import f1_score, accuracy_score, recall_score, precision_score, confusion_matrix"
   ]
  },
  {
   "cell_type": "code",
   "execution_count": 10,
   "metadata": {
    "collapsed": false
   },
   "outputs": [
    {
     "ename": "ImportError",
     "evalue": "No module named 'utils.w2v_initialization'",
     "output_type": "error",
     "traceback": [
      "\u001b[0;31m---------------------------------------------------------------------------\u001b[0m",
      "\u001b[0;31mImportError\u001b[0m                               Traceback (most recent call last)",
      "\u001b[0;32m<ipython-input-10-5e7c2f6a5c98>\u001b[0m in \u001b[0;36m<module>\u001b[0;34m()\u001b[0m\n\u001b[1;32m      3\u001b[0m \u001b[0mos\u001b[0m\u001b[0;34m.\u001b[0m\u001b[0menviron\u001b[0m\u001b[0;34m[\u001b[0m\u001b[0;34m\"THEANO_FLAGS\"\u001b[0m\u001b[0;34m]\u001b[0m \u001b[0;34m=\u001b[0m \u001b[0;34m\"device=\"\u001b[0m\u001b[0;34m+\u001b[0m\u001b[0mgpu_id\u001b[0m \u001b[0;34m+\u001b[0m\u001b[0;34m\",lib.cnmem=1\"\u001b[0m\u001b[0;34m\u001b[0m\u001b[0m\n\u001b[1;32m      4\u001b[0m \u001b[0;34m\u001b[0m\u001b[0m\n\u001b[0;32m----> 5\u001b[0;31m \u001b[0;32mfrom\u001b[0m \u001b[0mutils\u001b[0m\u001b[0;34m.\u001b[0m\u001b[0mw2v_initialization\u001b[0m \u001b[0;32mimport\u001b[0m \u001b[0;34m*\u001b[0m\u001b[0;34m\u001b[0m\u001b[0m\n\u001b[0m\u001b[1;32m      6\u001b[0m \u001b[0;32mfrom\u001b[0m \u001b[0mutils\u001b[0m\u001b[0;34m.\u001b[0m\u001b[0mmodels\u001b[0m \u001b[0;32mimport\u001b[0m \u001b[0;34m*\u001b[0m\u001b[0;34m\u001b[0m\u001b[0m\n\u001b[1;32m      7\u001b[0m \u001b[0;32mfrom\u001b[0m \u001b[0mutils\u001b[0m\u001b[0;34m.\u001b[0m\u001b[0mextentions\u001b[0m \u001b[0;32mimport\u001b[0m \u001b[0;34m*\u001b[0m\u001b[0;34m\u001b[0m\u001b[0m\n",
      "\u001b[0;31mImportError\u001b[0m: No module named 'utils.w2v_initialization'"
     ]
    }
   ],
   "source": [
    "gpu_id='gpu2'\n",
    "import os\n",
    "os.environ[\"THEANO_FLAGS\"] = \"device=\"+gpu_id +\",lib.cnmem=1\"\n",
    "\n",
    "from utils.w2v_initialization import *\n",
    "from utils.models import *\n",
    "from utils.extentions import *\n",
    "\n",
    "from keras.callbacks import ModelCheckpoint, EarlyStopping\n",
    "from keras.layers import Activation, Dense, Dropout, LSTM, Merge\n",
    "from keras.layers.embeddings import Embedding\n",
    "from keras.callbacks import EarlyStopping\n",
    "from keras.wrappers.scikit_learn import KerasClassifier"
   ]
  },
  {
   "cell_type": "code",
   "execution_count": 8,
   "metadata": {
    "collapsed": true
   },
   "outputs": [],
   "source": [
    "LEMMA_IND = 7\n",
    "POS_IND = 9\n",
    "SELECTED_FEATURES = \"/home/sag/syntactic/src_putin/grant/data/processed/selected_features/\"\n",
    "BEST_MODEL = SELECTED_FEATURES+\"model_without_w2v_init.pkl\"\n",
    "RESULTS = SELECTED_FEATURES+\"results3.pkl\""
   ]
  },
  {
   "cell_type": "code",
   "execution_count": 4,
   "metadata": {
    "collapsed": false
   },
   "outputs": [
    {
     "name": "stdout",
     "output_type": "stream",
     "text": [
      "((1423937, 13, 12), (1423937, 125))\n",
      "((1153388, 13, 12), (128155, 13, 12), (142394, 13, 12), (1153388, 125), (128155, 125), (142394, 125))\n"
     ]
    }
   ],
   "source": [
    "matrix = np.load(SELECTED_FEATURES+\"matrix.npy\")\n",
    "matrix = np.delete(matrix, (71079), axis=0)\n",
    "#w2v_weights = np.load(SELECTED_FEATURES+\"w2v_weights.npy\")\n",
    "\n",
    "target = OneHotEncoder(sparse=False).fit_transform(np.load(SELECTED_FEATURES+\"y.npy\").reshape(-1, 1) - 1)\n",
    "target = np.delete(target, (71079), axis=0)\n",
    "print(matrix.shape, target.shape)\n",
    "\n",
    "#X_train, X_val, X_test, y_train, y_val, y_test = matrix_train_val_test_split(matrix, target, number_of_samples_to_use=10000)\n",
    "X_train, X_val, X_test, y_train, y_val, y_test = matrix_train_val_test_split(matrix, target)"
   ]
  },
  {
   "cell_type": "code",
   "execution_count": 5,
   "metadata": {
    "collapsed": false
   },
   "outputs": [],
   "source": [
    "# params = {\n",
    "#     'lstm_layers' :[[450, 450, 450], [400, 400, 400]],\n",
    "#     'dense_layers': [[100, 100], [100]],\n",
    "#     'loss': ['categorical_crossentropy'],\n",
    "#     'activation': ['srelu', 'prelu', 'elu'],\n",
    "#     'optimizer': [Eve(), 'Adam'],\n",
    "#     'metrics': [f1],\n",
    "#     'dropout': [0.25]\n",
    "# }\n",
    "\n",
    "# fit_params = {\n",
    "#     'nb_epoch': 100,\n",
    "#     'batch_size': 3072,\n",
    "#     'verbose': 2,\n",
    "#     'callbacks': [EarlyStopping(monitor='val_loss', patience=5)],\n",
    "#     'validation_data': [X_val, y_val]\n",
    "# }\n",
    "\n",
    "# branches = create_embedding_without_w2v_matrix(matrix)\n",
    "# results, best_model, best_score = keras_gridsearch(\n",
    "#                      create_stacked_lstm, \\\n",
    "#                      branches, \\\n",
    "#                      X_train, y_train, \\\n",
    "#                      X_val, y_val, \\\n",
    "#                      X_test, y_test, \\\n",
    "#                      params, fit_params, \\\n",
    "#                      save_best_model=BEST_MODEL,\n",
    "#                      save_results=RESULTS, start=0, end=12\n",
    "#                      )"
   ]
  },
  {
   "cell_type": "code",
   "execution_count": 6,
   "metadata": {
    "collapsed": false
   },
   "outputs": [],
   "source": [
    "# model = load_keras_model(BEST_MODEL)\n",
    "# stats_val = get_stats(model, X_val, y_val)\n",
    "# stats_test = get_stats(model, X_test, y_test)\n",
    "# print(stats_val['f1'])\n",
    "# print(stats_test['f1'])"
   ]
  },
  {
   "cell_type": "code",
   "execution_count": 7,
   "metadata": {
    "collapsed": false
   },
   "outputs": [],
   "source": [
    "param = {\n",
    "    'lstm_layers' :[450, 450, 450],\n",
    "    'dense_layers': [100],\n",
    "    'loss': 'categorical_crossentropy',\n",
    "    'activation': 'srelu', # 'prelu', 'elu',\n",
    "    'optimizer': Eve(),\n",
    "    'metrics': f1,\n",
    "    'dropout': 0.25\n",
    "}\n",
    "\n",
    "fit_params = {\n",
    "    'nb_epoch': 100,\n",
    "    'batch_size': 3072,\n",
    "    'verbose': 2,\n",
    "    'callbacks': [EarlyStopping(monitor='val_loss', patience=5), \n",
    "                  FullModelCheckpoint(BEST_MODEL)],\n",
    "    'validation_data': [X_val, y_val]\n",
    "}\n",
    "\n",
    "branches = create_embedding_without_w2v_matrix(matrix)"
   ]
  },
  {
   "cell_type": "code",
   "execution_count": 10,
   "metadata": {
    "collapsed": false
   },
   "outputs": [],
   "source": [
    "# keras_model = KerasClassifier(build_fn=create_stacked_lstm, branches=branches, **param)\n",
    "# keras_model.fit(X_train, y_train, **fit_params)\n",
    "# stats_val = get_stats(keras_model, X_val, y_val)\n",
    "# stats_test = get_stats(keras_model, X_test, y_test)"
   ]
  },
  {
   "cell_type": "code",
   "execution_count": 14,
   "metadata": {
    "collapsed": false
   },
   "outputs": [
    {
     "ename": "AttributeError",
     "evalue": "'module' object has no attribute 'setdefaultencoding'",
     "output_type": "error",
     "traceback": [
      "\u001b[0;31m---------------------------------------------------------------------------\u001b[0m",
      "\u001b[0;31mAttributeError\u001b[0m                            Traceback (most recent call last)",
      "\u001b[0;32m<ipython-input-14-06c984a540e5>\u001b[0m in \u001b[0;36m<module>\u001b[0;34m()\u001b[0m\n\u001b[1;32m      3\u001b[0m \u001b[0;34m\u001b[0m\u001b[0m\n\u001b[1;32m      4\u001b[0m \u001b[0;34m\u001b[0m\u001b[0m\n\u001b[0;32m----> 5\u001b[0;31m \u001b[0msys\u001b[0m\u001b[0;34m.\u001b[0m\u001b[0msetdefaultencoding\u001b[0m\u001b[0;34m(\u001b[0m\u001b[0;34m'utf8'\u001b[0m\u001b[0;34m)\u001b[0m\u001b[0;34m\u001b[0m\u001b[0m\n\u001b[0m",
      "\u001b[0;31mAttributeError\u001b[0m: 'module' object has no attribute 'setdefaultencoding'"
     ]
    }
   ],
   "source": [
    "# encoding=utf8  \n",
    "import sys  \n",
    "\n",
    "\n",
    "sys.setdefaultencoding('utf8')"
   ]
  },
  {
   "cell_type": "code",
   "execution_count": 15,
   "metadata": {
    "collapsed": true
   },
   "outputs": [],
   "source": [
    "def load_keras_model(file_path):\n",
    "    from keras.models import model_from_json\n",
    "    json_string, weigths = pickle.load(open(file_path, 'rb'))\n",
    "    keras_model = model_from_json(json_string)\n",
    "    keras_model.set_weights(weigths)\n",
    "    return keras_model"
   ]
  },
  {
   "cell_type": "code",
   "execution_count": 16,
   "metadata": {
    "collapsed": false
   },
   "outputs": [
    {
     "ename": "UnicodeDecodeError",
     "evalue": "'ascii' codec can't decode byte 0x8f in position 2: ordinal not in range(128)",
     "output_type": "error",
     "traceback": [
      "\u001b[0;31m---------------------------------------------------------------------------\u001b[0m",
      "\u001b[0;31mUnicodeDecodeError\u001b[0m                        Traceback (most recent call last)",
      "\u001b[0;32m<ipython-input-16-7c9f7996ae57>\u001b[0m in \u001b[0;36m<module>\u001b[0;34m()\u001b[0m\n\u001b[0;32m----> 1\u001b[0;31m \u001b[0mmodel\u001b[0m \u001b[0;34m=\u001b[0m \u001b[0mload_keras_model\u001b[0m\u001b[0;34m(\u001b[0m\u001b[0mBEST_MODEL\u001b[0m\u001b[0;34m)\u001b[0m\u001b[0;34m\u001b[0m\u001b[0m\n\u001b[0m",
      "\u001b[0;32m<ipython-input-15-67be08da3902>\u001b[0m in \u001b[0;36mload_keras_model\u001b[0;34m(file_path)\u001b[0m\n\u001b[1;32m      1\u001b[0m \u001b[0;32mdef\u001b[0m \u001b[0mload_keras_model\u001b[0m\u001b[0;34m(\u001b[0m\u001b[0mfile_path\u001b[0m\u001b[0;34m)\u001b[0m\u001b[0;34m:\u001b[0m\u001b[0;34m\u001b[0m\u001b[0m\n\u001b[1;32m      2\u001b[0m     \u001b[0;32mfrom\u001b[0m \u001b[0mkeras\u001b[0m\u001b[0;34m.\u001b[0m\u001b[0mmodels\u001b[0m \u001b[0;32mimport\u001b[0m \u001b[0mmodel_from_json\u001b[0m\u001b[0;34m\u001b[0m\u001b[0m\n\u001b[0;32m----> 3\u001b[0;31m     \u001b[0mjson_string\u001b[0m\u001b[0;34m,\u001b[0m \u001b[0mweigths\u001b[0m \u001b[0;34m=\u001b[0m \u001b[0mpickle\u001b[0m\u001b[0;34m.\u001b[0m\u001b[0mload\u001b[0m\u001b[0;34m(\u001b[0m\u001b[0mopen\u001b[0m\u001b[0;34m(\u001b[0m\u001b[0mfile_path\u001b[0m\u001b[0;34m,\u001b[0m \u001b[0;34m'rb'\u001b[0m\u001b[0;34m)\u001b[0m\u001b[0;34m)\u001b[0m\u001b[0;34m\u001b[0m\u001b[0m\n\u001b[0m\u001b[1;32m      4\u001b[0m     \u001b[0mkeras_model\u001b[0m \u001b[0;34m=\u001b[0m \u001b[0mmodel_from_json\u001b[0m\u001b[0;34m(\u001b[0m\u001b[0mjson_string\u001b[0m\u001b[0;34m)\u001b[0m\u001b[0;34m\u001b[0m\u001b[0m\n\u001b[1;32m      5\u001b[0m     \u001b[0mkeras_model\u001b[0m\u001b[0;34m.\u001b[0m\u001b[0mset_weights\u001b[0m\u001b[0;34m(\u001b[0m\u001b[0mweigths\u001b[0m\u001b[0;34m)\u001b[0m\u001b[0;34m\u001b[0m\u001b[0m\n",
      "\u001b[0;31mUnicodeDecodeError\u001b[0m: 'ascii' codec can't decode byte 0x8f in position 2: ordinal not in range(128)"
     ]
    }
   ],
   "source": [
    "model = load_keras_model(BEST_MODEL)"
   ]
  },
  {
   "cell_type": "code",
   "execution_count": 11,
   "metadata": {
    "collapsed": false
   },
   "outputs": [
    {
     "name": "stdout",
     "output_type": "stream",
     "text": [
      "128155/128155 [==============================] - 16s    \n",
      "142394/142394 [==============================] - 18s    \n",
      "0.883240700321\n",
      "0.871933583835\n"
     ]
    }
   ],
   "source": [
    "model = load_keras_model(BEST_MODEL)\n",
    "#results = pickle.load(open(RESULTS, 'rb'))\n",
    "\n",
    "stats_val = get_stats(model, X_val, y_val)\n",
    "stats_test = get_stats(model, X_test, y_test)\n",
    "print(stats_val['f1'])\n",
    "print(stats_test['f1'])"
   ]
  },
  {
   "cell_type": "code",
   "execution_count": null,
   "metadata": {
    "collapsed": true
   },
   "outputs": [],
   "source": []
  }
 ],
 "metadata": {
  "kernelspec": {
   "display_name": "Python 3",
   "language": "python",
   "name": "python3"
  },
  "language_info": {
   "codemirror_mode": {
    "name": "ipython",
    "version": 3
   },
   "file_extension": ".py",
   "mimetype": "text/x-python",
   "name": "python",
   "nbconvert_exporter": "python",
   "pygments_lexer": "ipython3",
   "version": "3.4.3"
  }
 },
 "nbformat": 4,
 "nbformat_minor": 1
}
