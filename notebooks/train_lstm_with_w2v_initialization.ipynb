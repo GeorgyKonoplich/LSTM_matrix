{
 "cells": [
  {
   "cell_type": "code",
   "execution_count": 1,
   "metadata": {
    "collapsed": false
   },
   "outputs": [
    {
     "data": {
      "application/javascript": [
       "IPython.notebook.set_autosave_interval(10000)"
      ]
     },
     "metadata": {},
     "output_type": "display_data"
    },
    {
     "name": "stdout",
     "output_type": "stream",
     "text": [
      "Autosaving every 10 seconds\n"
     ]
    },
    {
     "name": "stderr",
     "output_type": "stream",
     "text": [
      "/usr/local/lib/python2.7/dist-packages/gensim/utils.py:1015: UserWarning: Pattern library is not installed, lemmatization won't be available.\n",
      "  warnings.warn(\"Pattern library is not installed, lemmatization won't be available.\")\n",
      "/usr/local/lib/python2.7/dist-packages/sklearn/cross_validation.py:44: DeprecationWarning: This module was deprecated in version 0.18 in favor of the model_selection module into which all the refactored classes and functions are moved. Also note that the interface of the new CV iterators are different from that of this module. This module will be removed in 0.20.\n",
      "  \"This module will be removed in 0.20.\", DeprecationWarning)\n",
      "/usr/local/lib/python2.7/dist-packages/sklearn/grid_search.py:43: DeprecationWarning: This module was deprecated in version 0.18 in favor of the model_selection module into which all the refactored classes and functions are moved. This module will be removed in 0.20.\n",
      "  DeprecationWarning)\n"
     ]
    }
   ],
   "source": [
    "%matplotlib inline\n",
    "%load_ext autoreload\n",
    "%autoreload 2\n",
    "%autosave 10\n",
    "\n",
    "import pickle\n",
    "import sys, os\n",
    "sys.setrecursionlimit(10000)\n",
    "\n",
    "import gensim\n",
    "import pandas as pd\n",
    "import scipy as sp\n",
    "import numpy as np\n",
    "import matplotlib.pyplot as plt\n",
    "\n",
    "import warnings\n",
    "warnings.filterwarnings(\"ignore\")\n",
    "\n",
    "from sklearn.preprocessing import OneHotEncoder\n",
    "from sklearn.cross_validation import train_test_split, ShuffleSplit\n",
    "from sklearn.metrics import classification_report, precision_recall_fscore_support, accuracy_score\n",
    "from sklearn.grid_search import GridSearchCV, ParameterGrid\n",
    "\n",
    "from sklearn.externals.joblib import load, dump\n",
    "from sklearn.metrics import f1_score, accuracy_score, recall_score, precision_score, confusion_matrix"
   ]
  },
  {
   "cell_type": "code",
   "execution_count": 2,
   "metadata": {
    "collapsed": false
   },
   "outputs": [
    {
     "name": "stderr",
     "output_type": "stream",
     "text": [
      "Using Theano backend.\n",
      "Using gpu device 0: Tesla K80 (CNMeM is enabled with initial size: 95.0% of memory, cuDNN 4007)\n"
     ]
    }
   ],
   "source": [
    "gpu_id='gpu0'\n",
    "import os\n",
    "os.environ[\"THEANO_FLAGS\"] = \"device=\"+gpu_id +\",lib.cnmem=1\"\n",
    "\n",
    "from utils.w2v_initialization import *\n",
    "from utils.models import *\n",
    "from utils.extentions import *\n",
    "\n",
    "from keras.callbacks import ModelCheckpoint, EarlyStopping\n",
    "from keras.layers import Activation, Dense, Dropout, LSTM, Merge\n",
    "from keras.layers.embeddings import Embedding\n",
    "from keras.callbacks import EarlyStopping\n",
    "from keras.wrappers.scikit_learn import KerasClassifier"
   ]
  },
  {
   "cell_type": "code",
   "execution_count": 3,
   "metadata": {
    "collapsed": true
   },
   "outputs": [],
   "source": [
    "LEMMA_IND = 7\n",
    "POS_IND = 9\n",
    "SELECTED_FEATURES = \"/home/sag/syntactic/src_putin/grant/data/processed/selected_features/\"\n",
    "BEST_MODEL = SELECTED_FEATURES+\"model_with_w2v_init.pkl\"\n",
    "RESULTS = SELECTED_FEATURES+\"results1.pkl\""
   ]
  },
  {
   "cell_type": "code",
   "execution_count": 4,
   "metadata": {
    "collapsed": false
   },
   "outputs": [
    {
     "name": "stdout",
     "output_type": "stream",
     "text": [
      "((1423937, 13, 13), (1423937, 125))\n",
      "((1153388, 13, 13), (128155, 13, 13), (142394, 13, 13), (1153388, 125), (128155, 125), (142394, 125))\n"
     ]
    }
   ],
   "source": [
    "matrix = np.load(SELECTED_FEATURES+\"matrix_updated.npy\")\n",
    "w2v_weights = np.load(SELECTED_FEATURES+\"w2v_weights.npy\")\n",
    "\n",
    "target = OneHotEncoder(sparse=False).fit_transform(np.load(SELECTED_FEATURES+\"y.npy\").reshape(-1, 1) - 1)\n",
    "target = np.delete(target, (71079), axis=0)\n",
    "print(matrix.shape, target.shape)\n",
    "\n",
    "#X_train, X_val, X_test, y_train, y_val, y_test = matrix_train_val_test_split(matrix, target, number_of_samples_to_use=10000)\n",
    "X_train, X_val, X_test, y_train, y_val, y_test = matrix_train_val_test_split(matrix, target)"
   ]
  },
  {
   "cell_type": "code",
   "execution_count": 5,
   "metadata": {
    "collapsed": false
   },
   "outputs": [],
   "source": [
    "# params = {\n",
    "#     'lstm_layers' :[[450, 450, 450], [400, 400, 400]],\n",
    "#     'dense_layers': [[100, 100], [100]],\n",
    "#     'loss': ['categorical_crossentropy'],\n",
    "#     'activation': ['srelu', 'prelu', 'elu'],\n",
    "#     'optimizer': [Eve(), 'Adam'],\n",
    "#     'metrics': [f1],\n",
    "#     'dropout': [0.25]\n",
    "# }\n",
    "\n",
    "# fit_params = {\n",
    "#     'nb_epoch': 100,\n",
    "#     'batch_size': 3072,\n",
    "#     'verbose': 2,\n",
    "#     'callbacks': [EarlyStopping(monitor='val_loss', patience=5)],\n",
    "#     'validation_data': [X_val, y_val]\n",
    "# }  \n",
    "\n",
    "# branches = create_embedding_with_w2v_matrix(matrix, w2v_weights)\n",
    "# results, best_model, best_score = keras_gridsearch(\n",
    "#                      create_stacked_lstm, \\\n",
    "#                      branches, \\\n",
    "#                      X_train, y_train, \\\n",
    "#                      X_val, y_val, \\\n",
    "#                      X_test, y_test, \\\n",
    "#                      params, fit_params, \\\n",
    "#                      save_best_model=BEST_MODEL,\n",
    "#                      save_results=RESULTS, start=0, end=12\n",
    "#                      )"
   ]
  },
  {
   "cell_type": "code",
   "execution_count": 6,
   "metadata": {
    "collapsed": false
   },
   "outputs": [],
   "source": [
    "# model = load_keras_model(BEST_MODEL)\n",
    "# #results = pickle.load(open(RESULTS, 'rb'))\n",
    "\n",
    "# stats_val = get_stats(model, X_val, y_val)\n",
    "# stats_test = get_stats(model, X_test, y_test)\n",
    "# print(stats_val['f1'])\n",
    "# print(stats_test['f1'])"
   ]
  },
  {
   "cell_type": "code",
   "execution_count": 11,
   "metadata": {
    "collapsed": false
   },
   "outputs": [],
   "source": [
    "param = {\n",
    "    'lstm_layers' :[450, 450, 450],\n",
    "    'dense_layers': [100],\n",
    "    'loss': 'categorical_crossentropy',\n",
    "    'activation': 'srelu', # 'prelu', 'elu',\n",
    "    'optimizer': Eve(),\n",
    "    'metrics': f1,\n",
    "    'dropout': 0.25\n",
    "}\n",
    "\n",
    "fit_params = {\n",
    "    'nb_epoch': 10,\n",
    "    'batch_size': 4096,\n",
    "    'verbose': 2,\n",
    "    'callbacks': [EarlyStopping(monitor='val_loss', patience=5), \n",
    "                  FullModelCheckpoint(BEST_MODEL)],\n",
    "    'validation_data': [X_val, y_val]\n",
    "}\n",
    "\n",
    "branches = create_embedding_with_w2v_matrix(matrix, w2v_weights)"
   ]
  },
  {
   "cell_type": "code",
   "execution_count": 12,
   "metadata": {
    "collapsed": false,
    "scrolled": true
   },
   "outputs": [
    {
     "name": "stdout",
     "output_type": "stream",
     "text": [
      "Train on 1153388 samples, validate on 128155 samples\n",
      "Epoch 1/10\n",
      "680s - loss: 1.8677 - f1: 0.3623 - val_loss: 0.9926 - val_f1: 0.6958\n",
      "Epoch 2/10\n",
      "680s - loss: 0.7347 - f1: 0.7909 - val_loss: 0.5312 - val_f1: 0.8472\n",
      "Epoch 3/10\n",
      "680s - loss: 0.4789 - f1: 0.8633 - val_loss: 0.4429 - val_f1: 0.8721\n",
      "Epoch 4/10\n",
      "679s - loss: 0.3664 - f1: 0.8956 - val_loss: 0.4092 - val_f1: 0.8826\n",
      "Epoch 5/10\n",
      "679s - loss: 0.2955 - f1: 0.9162 - val_loss: 0.3929 - val_f1: 0.8887\n",
      "Epoch 6/10\n",
      "678s - loss: 0.2456 - f1: 0.9304 - val_loss: 0.4028 - val_f1: 0.8915\n",
      "Epoch 7/10\n",
      "677s - loss: 0.2085 - f1: 0.9410 - val_loss: 0.4068 - val_f1: 0.8912\n",
      "Epoch 8/10\n",
      "679s - loss: 0.1852 - f1: 0.9475 - val_loss: 0.4231 - val_f1: 0.8928\n",
      "Epoch 9/10\n",
      "675s - loss: 0.1679 - f1: 0.9525 - val_loss: 0.4367 - val_f1: 0.8922\n",
      "Epoch 10/10\n",
      "674s - loss: 0.1566 - f1: 0.9554 - val_loss: 0.4386 - val_f1: 0.8924\n",
      "128155/128155 [==============================] - 17s    \n",
      "142394/142394 [==============================] - 19s    \n"
     ]
    }
   ],
   "source": [
    "keras_model = KerasClassifier(build_fn=create_stacked_lstm, branches=branches, **param)\n",
    "keras_model.fit(X_train, y_train, **fit_params)\n",
    "stats_val = get_stats(keras_model, X_val, y_val)\n",
    "stats_test = get_stats(keras_model, X_test, y_test)"
   ]
  },
  {
   "cell_type": "code",
   "execution_count": 14,
   "metadata": {
    "collapsed": false
   },
   "outputs": [
    {
     "name": "stdout",
     "output_type": "stream",
     "text": [
      "128155/128155 [==============================] - 17s    \n",
      "142394/142394 [==============================] - 19s    \n",
      "0.888100784888\n",
      "0.876953391584\n"
     ]
    }
   ],
   "source": [
    "model = load_keras_model(BEST_MODEL)\n",
    "#results = pickle.load(open(RESULTS, 'rb'))\n",
    "\n",
    "stats_val = get_stats(model, X_val, y_val)\n",
    "stats_test = get_stats(model, X_test, y_test)\n",
    "print(stats_val['f1'])\n",
    "print(stats_test['f1'])"
   ]
  },
  {
   "cell_type": "code",
   "execution_count": null,
   "metadata": {
    "collapsed": true
   },
   "outputs": [],
   "source": []
  }
 ],
 "metadata": {
  "kernelspec": {
   "display_name": "Python 2",
   "language": "python",
   "name": "python2"
  },
  "language_info": {
   "codemirror_mode": {
    "name": "ipython",
    "version": 2
   },
   "file_extension": ".py",
   "mimetype": "text/x-python",
   "name": "python",
   "nbconvert_exporter": "python",
   "pygments_lexer": "ipython2",
   "version": "2.7.6"
  }
 },
 "nbformat": 4,
 "nbformat_minor": 1
}
