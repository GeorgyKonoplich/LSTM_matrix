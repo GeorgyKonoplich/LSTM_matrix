{
 "cells": [
  {
   "cell_type": "code",
   "execution_count": 1,
   "metadata": {
    "collapsed": false
   },
   "outputs": [
    {
     "data": {
      "application/javascript": [
       "IPython.notebook.set_autosave_interval(10000)"
      ]
     },
     "metadata": {},
     "output_type": "display_data"
    },
    {
     "name": "stdout",
     "output_type": "stream",
     "text": [
      "Autosaving every 10 seconds\n"
     ]
    },
    {
     "name": "stderr",
     "output_type": "stream",
     "text": [
      "Using Theano backend.\n"
     ]
    }
   ],
   "source": [
    "%matplotlib inline\n",
    "%load_ext autoreload\n",
    "%autoreload 2\n",
    "%autosave 10\n",
    "import numpy as np\n",
    "from keras.layers.advanced_activations import SReLU\n",
    "from keras import callbacks as ckbs\n",
    "import random\n",
    "import time\n",
    "import gzip\n",
    "from keras.models import model_from_json\n",
    "import pickle as pkl\n",
    "import keras\n",
    "from keras.models import Sequential\n",
    "from keras.layers.core import *\n",
    "from keras.layers.wrappers import *\n",
    "from keras.optimizers import *\n",
    "from keras.utils import np_utils\n",
    "from keras.layers.embeddings import Embedding\n",
    "from keras.layers import LSTM\n",
    "from docutils.languages.af import labels\n",
    "from sklearn.model_selection import train_test_split\n",
    "gpu_id='gpu0'\n",
    "import os\n",
    "os.environ[\"THEANO_FLAGS\"] = \"device=\"+gpu_id +\",lib.cnmem=1\"\n"
   ]
  },
  {
   "cell_type": "code",
   "execution_count": 2,
   "metadata": {
    "collapsed": true
   },
   "outputs": [],
   "source": [
    "def load_neural_network(file_from):\n",
    "    (nn_arch, nn_weights_path) = pkl.load(open(file_from, 'rb'))\n",
    "    nn = model_from_json(nn_arch)\n",
    "    nn.set_weights(nn_weights_path)\n",
    "    return nn"
   ]
  },
  {
   "cell_type": "code",
   "execution_count": 3,
   "metadata": {
    "collapsed": false
   },
   "outputs": [],
   "source": [
    "f = gzip.open('../data/processed/pkl_short/embeddings.pkl.gz', 'rb')\n",
    "embeddings = pkl.load(f)\n",
    "f.close()\n",
    "\n",
    "label2Idx = embeddings['label2Idx']\n",
    "\n",
    "#Inverse label mapping\n",
    "idx2Label = {v: k for k, v in label2Idx.items()}\n",
    "\n",
    "f = gzip.open('../data/processed/pkl_short/data.pkl.gz', 'rb')\n",
    "test_data = pkl.load(f)\n",
    "dev_data = pkl.load(f)\n",
    "wiki_data = pkl.load(f)\n",
    "f.close()\n",
    "\n",
    "n_out = len(label2Idx)"
   ]
  },
  {
   "cell_type": "code",
   "execution_count": 4,
   "metadata": {
    "collapsed": false
   },
   "outputs": [
    {
     "data": {
      "text/plain": [
       "array([ 879,  644,  277,   59,  918,  655,  262,   34,    0,    3,    0,\n",
       "          3,  948,    0,    0,    0,    0,    0,    0,    0,    1,    1,\n",
       "       1140,   -1,    0])"
      ]
     },
     "execution_count": 4,
     "metadata": {},
     "output_type": "execute_result"
    }
   ],
   "source": []
  },
  {
   "cell_type": "code",
   "execution_count": null,
   "metadata": {
    "collapsed": false
   },
   "outputs": [],
   "source": [
    "np.max(wiki_data[0][0][:][:])"
   ]
  },
  {
   "cell_type": "code",
   "execution_count": null,
   "metadata": {
    "collapsed": false
   },
   "outputs": [],
   "source": [
    "int(nan)"
   ]
  },
  {
   "cell_type": "code",
   "execution_count": 5,
   "metadata": {
    "collapsed": true
   },
   "outputs": [],
   "source": [
    "class FullModelCheckpoint(ckbs.ModelCheckpoint):\n",
    "    def on_epoch_end(self, epoch, logs={}):\n",
    "        filepath = self.filepath.format(epoch=epoch, **logs)\n",
    "        if self.save_best_only:\n",
    "            current = logs.get(self.monitor)\n",
    "            if current is None:\n",
    "                warnings.warn('Can save best model only with %s available, '\n",
    "                              'skipping.' % (self.monitor), RuntimeWarning)\n",
    "            else:\n",
    "                if self.monitor_op(current, self.best):\n",
    "                    if self.verbose > 0:\n",
    "                        print('Epoch %05d: %s improved from %0.5f to %0.5f,'\n",
    "                              ' saving model to %s'\n",
    "                              % (epoch, self.monitor, self.best,\n",
    "                                 current, filepath))\n",
    "                    self.best = current\n",
    "                    pkl.dump([self.model.to_json(), self.model.get_weights()], open(filepath, 'wb'))\n",
    "                else:\n",
    "                    if self.verbose > 0:\n",
    "                        print('Epoch %05d: %s did not improve' %\n",
    "                              (epoch, self.monitor))\n",
    "        else:\n",
    "            if self.verbose > 0:\n",
    "                print('Epoch %05d: saving model to %s' % (epoch, filepath))\n",
    "            pkl.dump([self.model.to_json(), self.model.get_weights()], open(filepath, 'wb'))\n"
   ]
  },
  {
   "cell_type": "code",
   "execution_count": 6,
   "metadata": {
    "collapsed": true
   },
   "outputs": [],
   "source": [
    "def get_model(matrix):\n",
    "    emb_layers = []\n",
    "    for param_num in range(matrix.shape[2]):\n",
    "        model = Sequential()\n",
    "        embedding_max_index = np.max(matrix[:, :, param_num]) + 2\n",
    "        out_size = 3\n",
    "        if embedding_max_index > 300:\n",
    "            out_size = 300\n",
    "        elif embedding_max_index > 100:\n",
    "            out_size = 10\n",
    "        model.add(Embedding(embedding_max_index, out_size, input_length=matrix.shape[1]))\n",
    "        emb_layers.append(model)\n",
    "    \n",
    "    merged = Merge(emb_layers, mode = 'concat')\n",
    "    return merged\n",
    "    "
   ]
  },
  {
   "cell_type": "code",
   "execution_count": 11,
   "metadata": {
    "collapsed": true
   },
   "outputs": [],
   "source": [
    "def get_data(data):\n",
    "    print( \"%d test size\" % len(data))\n",
    "    data = np.array(data)\n",
    "    print(data.shape)\n",
    "    X = [x[0] for x in data]\n",
    "    y = [x[1] for x in data]\n",
    "    return np.array(X), np.array(y)\n",
    "    "
   ]
  },
  {
   "cell_type": "code",
   "execution_count": 12,
   "metadata": {
    "collapsed": false
   },
   "outputs": [
    {
     "name": "stdout",
     "output_type": "stream",
     "text": [
      "1000 test size\n",
      "(1000, 2)\n"
     ]
    }
   ],
   "source": [
    "X,y = get_data(dev_data)"
   ]
  },
  {
   "cell_type": "code",
   "execution_count": 15,
   "metadata": {
    "collapsed": false
   },
   "outputs": [],
   "source": [
    "merged = get_model(X)"
   ]
  },
  {
   "cell_type": "code",
   "execution_count": 16,
   "metadata": {
    "collapsed": false
   },
   "outputs": [
    {
     "name": "stdout",
     "output_type": "stream",
     "text": [
      "____________________________________________________________________________________________________\n",
      "Layer (type)                     Output Shape          Param #     Connected to                     \n",
      "====================================================================================================\n",
      "embedding_26 (Embedding)         (None, 33, 300)       264000                                       \n",
      "____________________________________________________________________________________________________\n",
      "embedding_27 (Embedding)         (None, 33, 300)       193500                                       \n",
      "____________________________________________________________________________________________________\n",
      "embedding_28 (Embedding)         (None, 33, 10)        2780                                         \n",
      "____________________________________________________________________________________________________\n",
      "embedding_29 (Embedding)         (None, 33, 3)         180                                          \n",
      "____________________________________________________________________________________________________\n",
      "embedding_30 (Embedding)         (None, 33, 300)       275700                                       \n",
      "____________________________________________________________________________________________________\n",
      "embedding_31 (Embedding)         (None, 33, 300)       196800                                       \n",
      "____________________________________________________________________________________________________\n",
      "embedding_32 (Embedding)         (None, 33, 10)        2630                                         \n",
      "____________________________________________________________________________________________________\n",
      "embedding_33 (Embedding)         (None, 33, 3)         180                                          \n",
      "____________________________________________________________________________________________________\n",
      "embedding_34 (Embedding)         (None, 33, 300)       571800                                       \n",
      "____________________________________________________________________________________________________\n",
      "embedding_35 (Embedding)         (None, 33, 3)         48                                           \n",
      "____________________________________________________________________________________________________\n",
      "embedding_36 (Embedding)         (None, 33, 3)         132                                          \n",
      "____________________________________________________________________________________________________\n",
      "embedding_37 (Embedding)         (None, 33, 3)         63                                           \n",
      "____________________________________________________________________________________________________\n",
      "embedding_38 (Embedding)         (None, 33, 300)       284700                                       \n",
      "____________________________________________________________________________________________________\n",
      "embedding_39 (Embedding)         (None, 33, 3)         9                                            \n",
      "____________________________________________________________________________________________________\n",
      "embedding_40 (Embedding)         (None, 33, 3)         9                                            \n",
      "____________________________________________________________________________________________________\n",
      "embedding_41 (Embedding)         (None, 33, 3)         9                                            \n",
      "____________________________________________________________________________________________________\n",
      "embedding_42 (Embedding)         (None, 33, 3)         9                                            \n",
      "____________________________________________________________________________________________________\n",
      "embedding_43 (Embedding)         (None, 33, 3)         9                                            \n",
      "____________________________________________________________________________________________________\n",
      "embedding_44 (Embedding)         (None, 33, 3)         9                                            \n",
      "____________________________________________________________________________________________________\n",
      "embedding_45 (Embedding)         (None, 33, 3)         9                                            \n",
      "____________________________________________________________________________________________________\n",
      "embedding_46 (Embedding)         (None, 33, 3)         9                                            \n",
      "____________________________________________________________________________________________________\n",
      "embedding_47 (Embedding)         (None, 33, 10)        1640                                         \n",
      "____________________________________________________________________________________________________\n",
      "embedding_48 (Embedding)         (None, 33, 300)       342300                                       \n",
      "____________________________________________________________________________________________________\n",
      "embedding_49 (Embedding)         (None, 33, 3)         153                                          \n",
      "____________________________________________________________________________________________________\n",
      "embedding_50 (Embedding)         (None, 33, 3)         162                                          \n",
      "____________________________________________________________________________________________________\n",
      "lstm_1 (LSTM)                    (None, 33, 100)       910400      merge_2[0][0]                    \n",
      "____________________________________________________________________________________________________\n",
      "lstm_2 (LSTM)                    (None, 33, 100)       80400       lstm_1[0][0]                     \n",
      "____________________________________________________________________________________________________\n",
      "lstm_3 (LSTM)                    (None, 100)           80400       lstm_2[0][0]                     \n",
      "____________________________________________________________________________________________________\n",
      "dropout_1 (Dropout)              (None, 100)           0           lstm_3[0][0]                     \n",
      "____________________________________________________________________________________________________\n",
      "dense_1 (Dense)                  (None, 100)           10100       dropout_1[0][0]                  \n",
      "____________________________________________________________________________________________________\n",
      "srelu_1 (SReLU)                  (None, 100)           400         dense_1[0][0]                    \n",
      "____________________________________________________________________________________________________\n",
      "dense_2 (Dense)                  (None, 4)             404         srelu_1[0][0]                    \n",
      "====================================================================================================\n",
      "Total params: 3218944\n",
      "____________________________________________________________________________________________________\n"
     ]
    }
   ],
   "source": [
    "model = Sequential()\n",
    "model.add(merged)\n",
    "model.add(LSTM(100, return_sequences=True, dropout_W=0.2))\n",
    "model.add(LSTM(100, return_sequences=True, dropout_W=0.2))\n",
    "model.add(LSTM(100, dropout_W=0.2))\n",
    "model.add(Dropout(0.2))\n",
    "model.add(Dense(100))\n",
    "model.add(SReLU())\n",
    "model.add(Dense(n_out, activation='softmax'))\n",
    "\n",
    "sgd = SGD(lr=0.1, decay=1e-7, momentum=0.0, nesterov=False, clipvalue=3) \n",
    "rmsprop = RMSprop(clipvalue=3) \n",
    "nadam = keras.optimizers.Nadam(lr=0.002, beta_1=0.9, beta_2=0.999, epsilon=1e-08, schedule_decay=0.004)\n",
    "model.compile(loss='sparse_categorical_crossentropy', optimizer=nadam,metrics=['accuracy', 'precision', 'recall', 'categorical_accuracy', 'fmeasure'])\n",
    "\n",
    "model.summary()\n",
    "checkpointer = FullModelCheckpoint(filepath= \"../models/new_best_train_model\", verbose=1, save_best_only=True)\n"
   ]
  },
  {
   "cell_type": "code",
   "execution_count": 17,
   "metadata": {
    "collapsed": false
   },
   "outputs": [
    {
     "ename": "Exception",
     "evalue": "The model expects 25 input arrays, but only received one array. Found: array with shape (800, 33, 25)",
     "output_type": "error",
     "traceback": [
      "\u001b[0;31m---------------------------------------------------------------------------\u001b[0m",
      "\u001b[0;31mException\u001b[0m                                 Traceback (most recent call last)",
      "\u001b[0;32m<ipython-input-17-41c1779a6e51>\u001b[0m in \u001b[0;36m<module>\u001b[0;34m()\u001b[0m\n\u001b[1;32m      1\u001b[0m \u001b[0mX_train\u001b[0m\u001b[0;34m,\u001b[0m \u001b[0mX_test\u001b[0m\u001b[0;34m,\u001b[0m \u001b[0my_train\u001b[0m\u001b[0;34m,\u001b[0m \u001b[0my_test\u001b[0m \u001b[0;34m=\u001b[0m \u001b[0mtrain_test_split\u001b[0m\u001b[0;34m(\u001b[0m\u001b[0mX\u001b[0m\u001b[0;34m,\u001b[0m \u001b[0my\u001b[0m\u001b[0;34m,\u001b[0m \u001b[0mtest_size\u001b[0m\u001b[0;34m=\u001b[0m\u001b[0;36m0.2\u001b[0m\u001b[0;34m,\u001b[0m \u001b[0mrandom_state\u001b[0m\u001b[0;34m=\u001b[0m\u001b[0;36m42\u001b[0m\u001b[0;34m)\u001b[0m\u001b[0;34m\u001b[0m\u001b[0m\n\u001b[0;32m----> 2\u001b[0;31m \u001b[0mmodel\u001b[0m\u001b[0;34m.\u001b[0m\u001b[0mfit\u001b[0m\u001b[0;34m(\u001b[0m\u001b[0mX_train\u001b[0m\u001b[0;34m,\u001b[0m \u001b[0my_train\u001b[0m\u001b[0;34m,\u001b[0m \u001b[0mbatch_size\u001b[0m\u001b[0;34m=\u001b[0m\u001b[0;36m128\u001b[0m\u001b[0;34m,\u001b[0m \u001b[0mnb_epoch\u001b[0m\u001b[0;34m=\u001b[0m\u001b[0;36m100\u001b[0m\u001b[0;34m,\u001b[0m \u001b[0mvalidation_data\u001b[0m\u001b[0;34m=\u001b[0m\u001b[0;34m(\u001b[0m\u001b[0mX_test\u001b[0m\u001b[0;34m,\u001b[0m \u001b[0my_test\u001b[0m\u001b[0;34m)\u001b[0m\u001b[0;34m,\u001b[0m \u001b[0mcallbacks\u001b[0m\u001b[0;34m=\u001b[0m\u001b[0;34m[\u001b[0m\u001b[0mcheckpointer\u001b[0m\u001b[0;34m]\u001b[0m\u001b[0;34m)\u001b[0m\u001b[0;34m\u001b[0m\u001b[0m\n\u001b[0m\u001b[1;32m      3\u001b[0m \u001b[0mprint\u001b[0m\u001b[0;34m(\u001b[0m\u001b[0;34m'result'\u001b[0m\u001b[0;34m)\u001b[0m\u001b[0;34m\u001b[0m\u001b[0m\n",
      "\u001b[0;32m/home/sag/src_George/workspace/virtualenv/lib/python3.4/site-packages/keras/models.py\u001b[0m in \u001b[0;36mfit\u001b[0;34m(self, x, y, batch_size, nb_epoch, verbose, callbacks, validation_split, validation_data, shuffle, class_weight, sample_weight, **kwargs)\u001b[0m\n\u001b[1;32m    650\u001b[0m                               \u001b[0mshuffle\u001b[0m\u001b[0;34m=\u001b[0m\u001b[0mshuffle\u001b[0m\u001b[0;34m,\u001b[0m\u001b[0;34m\u001b[0m\u001b[0m\n\u001b[1;32m    651\u001b[0m                               \u001b[0mclass_weight\u001b[0m\u001b[0;34m=\u001b[0m\u001b[0mclass_weight\u001b[0m\u001b[0;34m,\u001b[0m\u001b[0;34m\u001b[0m\u001b[0m\n\u001b[0;32m--> 652\u001b[0;31m                               sample_weight=sample_weight)\n\u001b[0m\u001b[1;32m    653\u001b[0m \u001b[0;34m\u001b[0m\u001b[0m\n\u001b[1;32m    654\u001b[0m     def evaluate(self, x, y, batch_size=32, verbose=1,\n",
      "\u001b[0;32m/home/sag/src_George/workspace/virtualenv/lib/python3.4/site-packages/keras/engine/training.py\u001b[0m in \u001b[0;36mfit\u001b[0;34m(self, x, y, batch_size, nb_epoch, verbose, callbacks, validation_split, validation_data, shuffle, class_weight, sample_weight, initial_epoch)\u001b[0m\n\u001b[1;32m   1036\u001b[0m                                                            \u001b[0mclass_weight\u001b[0m\u001b[0;34m=\u001b[0m\u001b[0mclass_weight\u001b[0m\u001b[0;34m,\u001b[0m\u001b[0;34m\u001b[0m\u001b[0m\n\u001b[1;32m   1037\u001b[0m                                                            \u001b[0mcheck_batch_dim\u001b[0m\u001b[0;34m=\u001b[0m\u001b[0;32mFalse\u001b[0m\u001b[0;34m,\u001b[0m\u001b[0;34m\u001b[0m\u001b[0m\n\u001b[0;32m-> 1038\u001b[0;31m                                                            batch_size=batch_size)\n\u001b[0m\u001b[1;32m   1039\u001b[0m         \u001b[0;31m# prepare validation data\u001b[0m\u001b[0;34m\u001b[0m\u001b[0;34m\u001b[0m\u001b[0m\n\u001b[1;32m   1040\u001b[0m         \u001b[0;32mif\u001b[0m \u001b[0mvalidation_data\u001b[0m\u001b[0;34m:\u001b[0m\u001b[0;34m\u001b[0m\u001b[0m\n",
      "\u001b[0;32m/home/sag/src_George/workspace/virtualenv/lib/python3.4/site-packages/keras/engine/training.py\u001b[0m in \u001b[0;36m_standardize_user_data\u001b[0;34m(self, x, y, sample_weight, class_weight, check_batch_dim, batch_size)\u001b[0m\n\u001b[1;32m    961\u001b[0m                                    \u001b[0mself\u001b[0m\u001b[0;34m.\u001b[0m\u001b[0minternal_input_shapes\u001b[0m\u001b[0;34m,\u001b[0m\u001b[0;34m\u001b[0m\u001b[0m\n\u001b[1;32m    962\u001b[0m                                    \u001b[0mcheck_batch_dim\u001b[0m\u001b[0;34m=\u001b[0m\u001b[0;32mFalse\u001b[0m\u001b[0;34m,\u001b[0m\u001b[0;34m\u001b[0m\u001b[0m\n\u001b[0;32m--> 963\u001b[0;31m                                    exception_prefix='model input')\n\u001b[0m\u001b[1;32m    964\u001b[0m         y = standardize_input_data(y, self.output_names,\n\u001b[1;32m    965\u001b[0m                                    \u001b[0moutput_shapes\u001b[0m\u001b[0;34m,\u001b[0m\u001b[0;34m\u001b[0m\u001b[0m\n",
      "\u001b[0;32m/home/sag/src_George/workspace/virtualenv/lib/python3.4/site-packages/keras/engine/training.py\u001b[0m in \u001b[0;36mstandardize_input_data\u001b[0;34m(data, names, shapes, check_batch_dim, exception_prefix)\u001b[0m\n\u001b[1;32m     77\u001b[0m             raise Exception('The model expects ' + str(len(names)) +\n\u001b[1;32m     78\u001b[0m                             \u001b[0;34m' input arrays, but only received one array. '\u001b[0m\u001b[0;34m\u001b[0m\u001b[0m\n\u001b[0;32m---> 79\u001b[0;31m                             'Found: array with shape ' + str(data.shape))\n\u001b[0m\u001b[1;32m     80\u001b[0m         \u001b[0marrays\u001b[0m \u001b[0;34m=\u001b[0m \u001b[0;34m[\u001b[0m\u001b[0mdata\u001b[0m\u001b[0;34m]\u001b[0m\u001b[0;34m\u001b[0m\u001b[0m\n\u001b[1;32m     81\u001b[0m \u001b[0;34m\u001b[0m\u001b[0m\n",
      "\u001b[0;31mException\u001b[0m: The model expects 25 input arrays, but only received one array. Found: array with shape (800, 33, 25)"
     ]
    }
   ],
   "source": [
    "X_train, X_test, y_train, y_test = train_test_split(X, y, test_size=0.2, random_state=42)\n",
    "model.fit(X_train, y_train, batch_size=128, nb_epoch=100, validation_data=(X_test, y_test), callbacks=[checkpointer])\n",
    "print('result')"
   ]
  },
  {
   "cell_type": "code",
   "execution_count": null,
   "metadata": {
    "collapsed": false
   },
   "outputs": [],
   "source": [
    "model = load_neural_network('../models/best_train_model1')\n",
    "pred = model.predict_classes(X, batch_size=128, verbose=1)"
   ]
  },
  {
   "cell_type": "code",
   "execution_count": null,
   "metadata": {
    "collapsed": false
   },
   "outputs": [],
   "source": [
    "classes = set(pred)\n",
    "classes"
   ]
  },
  {
   "cell_type": "code",
   "execution_count": null,
   "metadata": {
    "collapsed": false
   },
   "outputs": [],
   "source": [
    "X = np.array(X)\n",
    "test_data[0][0]\n",
    "X[0]"
   ]
  },
  {
   "cell_type": "code",
   "execution_count": null,
   "metadata": {
    "collapsed": false
   },
   "outputs": [],
   "source": [
    "from sklearn.metrics import classification_report\n",
    "print(classification_report(y, pred, classes))"
   ]
  },
  {
   "cell_type": "code",
   "execution_count": null,
   "metadata": {
    "collapsed": false
   },
   "outputs": [],
   "source": [
    "y= np.array(y)\n",
    "print(y.shape)"
   ]
  },
  {
   "cell_type": "code",
   "execution_count": null,
   "metadata": {
    "collapsed": false
   },
   "outputs": [],
   "source": [
    "pred.shape"
   ]
  },
  {
   "cell_type": "code",
   "execution_count": null,
   "metadata": {
    "collapsed": false
   },
   "outputs": [],
   "source": [
    "print(classification_report(y, pred, classes))"
   ]
  },
  {
   "cell_type": "code",
   "execution_count": null,
   "metadata": {
    "collapsed": false
   },
   "outputs": [],
   "source": [
    "idx2Label[2]"
   ]
  },
  {
   "cell_type": "code",
   "execution_count": null,
   "metadata": {
    "collapsed": false
   },
   "outputs": [],
   "source": [
    "target_names = [idx2Label[0], idx2Label[1], idx2Label[2], idx2Label[3]]\n",
    "print(classification_report(y, pred, target_names=target_names))"
   ]
  },
  {
   "cell_type": "code",
   "execution_count": null,
   "metadata": {
    "collapsed": true
   },
   "outputs": [],
   "source": []
  }
 ],
 "metadata": {
  "kernelspec": {
   "display_name": "Python 3",
   "language": "python",
   "name": "python3"
  },
  "language_info": {
   "codemirror_mode": {
    "name": "ipython",
    "version": 3
   },
   "file_extension": ".py",
   "mimetype": "text/x-python",
   "name": "python",
   "nbconvert_exporter": "python",
   "pygments_lexer": "ipython3",
   "version": "3.4.3"
  }
 },
 "nbformat": 4,
 "nbformat_minor": 2
}
