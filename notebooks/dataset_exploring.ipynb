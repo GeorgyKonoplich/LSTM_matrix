{
 "cells": [
  {
   "cell_type": "code",
   "execution_count": 1,
   "metadata": {
    "collapsed": true
   },
   "outputs": [],
   "source": [
    "import pandas as pd"
   ]
  },
  {
   "cell_type": "code",
   "execution_count": 3,
   "metadata": {
    "collapsed": false
   },
   "outputs": [],
   "source": [
    "df = pd.read_csv('../data/processed/Dialog_test/NER_testset.features.csv', sep=';')"
   ]
  },
  {
   "cell_type": "code",
   "execution_count": 5,
   "metadata": {
    "collapsed": false
   },
   "outputs": [
    {
     "data": {
      "text/html": [
       "<div>\n",
       "<table border=\"1\" class=\"dataframe\">\n",
       "  <thead>\n",
       "    <tr style=\"text-align: right;\">\n",
       "      <th></th>\n",
       "      <th>prefix4</th>\n",
       "      <th>prefix3</th>\n",
       "      <th>prefix2</th>\n",
       "      <th>prefix1</th>\n",
       "      <th>postfix4</th>\n",
       "      <th>postfix3</th>\n",
       "      <th>postfix2</th>\n",
       "      <th>postfix1</th>\n",
       "      <th>posStart</th>\n",
       "      <th>pos</th>\n",
       "      <th>...</th>\n",
       "      <th>+1_1dom_islower</th>\n",
       "      <th>+1_1dom_isdigit</th>\n",
       "      <th>+1_1dom_isalpha</th>\n",
       "      <th>+1_1dom_isalnum</th>\n",
       "      <th>+1_1dom_isLastWord</th>\n",
       "      <th>+1_1dom_isFirstWord</th>\n",
       "      <th>+1_1dom_grm</th>\n",
       "      <th>+1_1dom_forma</th>\n",
       "      <th>+1_1dom_dom</th>\n",
       "      <th>+1_1dom_ID</th>\n",
       "    </tr>\n",
       "  </thead>\n",
       "  <tbody>\n",
       "    <tr>\n",
       "      <th>59376</th>\n",
       "      <td>.</td>\n",
       "      <td>.</td>\n",
       "      <td>.</td>\n",
       "      <td>.</td>\n",
       "      <td>.</td>\n",
       "      <td>.</td>\n",
       "      <td>.</td>\n",
       "      <td>.</td>\n",
       "      <td>6428</td>\n",
       "      <td>MID</td>\n",
       "      <td>...</td>\n",
       "      <td>0</td>\n",
       "      <td>0</td>\n",
       "      <td>0</td>\n",
       "      <td>0</td>\n",
       "      <td>0</td>\n",
       "      <td>0</td>\n",
       "      <td>NaN</td>\n",
       "      <td>:</td>\n",
       "      <td>4.0</td>\n",
       "      <td>4.0</td>\n",
       "    </tr>\n",
       "    <tr>\n",
       "      <th>59377</th>\n",
       "      <td>пути</td>\n",
       "      <td>пут</td>\n",
       "      <td>пу</td>\n",
       "      <td>п</td>\n",
       "      <td>утин</td>\n",
       "      <td>тин</td>\n",
       "      <td>ин</td>\n",
       "      <td>н</td>\n",
       "      <td>6429</td>\n",
       "      <td>S</td>\n",
       "      <td>...</td>\n",
       "      <td>0</td>\n",
       "      <td>0</td>\n",
       "      <td>0</td>\n",
       "      <td>0</td>\n",
       "      <td>0</td>\n",
       "      <td>0</td>\n",
       "      <td>NaN</td>\n",
       "      <td>:</td>\n",
       "      <td>4.0</td>\n",
       "      <td>4.0</td>\n",
       "    </tr>\n",
       "    <tr>\n",
       "      <th>59378</th>\n",
       "      <td>:</td>\n",
       "      <td>:</td>\n",
       "      <td>:</td>\n",
       "      <td>:</td>\n",
       "      <td>:</td>\n",
       "      <td>:</td>\n",
       "      <td>:</td>\n",
       "      <td>:</td>\n",
       "      <td>6434</td>\n",
       "      <td>MID</td>\n",
       "      <td>...</td>\n",
       "      <td>0</td>\n",
       "      <td>0</td>\n",
       "      <td>0</td>\n",
       "      <td>0</td>\n",
       "      <td>0</td>\n",
       "      <td>0</td>\n",
       "      <td>NaN</td>\n",
       "      <td>NaN</td>\n",
       "      <td>NaN</td>\n",
       "      <td>NaN</td>\n",
       "    </tr>\n",
       "    <tr>\n",
       "      <th>59379</th>\n",
       "      <td>хоро</td>\n",
       "      <td>хор</td>\n",
       "      <td>хо</td>\n",
       "      <td>х</td>\n",
       "      <td>рошо</td>\n",
       "      <td>ошо</td>\n",
       "      <td>шо</td>\n",
       "      <td>о</td>\n",
       "      <td>6436</td>\n",
       "      <td>A</td>\n",
       "      <td>...</td>\n",
       "      <td>0</td>\n",
       "      <td>0</td>\n",
       "      <td>0</td>\n",
       "      <td>0</td>\n",
       "      <td>0</td>\n",
       "      <td>0</td>\n",
       "      <td>NaN</td>\n",
       "      <td>:</td>\n",
       "      <td>4.0</td>\n",
       "      <td>4.0</td>\n",
       "    </tr>\n",
       "    <tr>\n",
       "      <th>59380</th>\n",
       "      <td>.</td>\n",
       "      <td>.</td>\n",
       "      <td>.</td>\n",
       "      <td>.</td>\n",
       "      <td>.</td>\n",
       "      <td>.</td>\n",
       "      <td>.</td>\n",
       "      <td>.</td>\n",
       "      <td>6442</td>\n",
       "      <td>MAD</td>\n",
       "      <td>...</td>\n",
       "      <td>0</td>\n",
       "      <td>0</td>\n",
       "      <td>0</td>\n",
       "      <td>0</td>\n",
       "      <td>0</td>\n",
       "      <td>0</td>\n",
       "      <td>NaN</td>\n",
       "      <td>NaN</td>\n",
       "      <td>NaN</td>\n",
       "      <td>NaN</td>\n",
       "    </tr>\n",
       "  </tbody>\n",
       "</table>\n",
       "<p>5 rows × 825 columns</p>\n",
       "</div>"
      ],
      "text/plain": [
       "      prefix4 prefix3 prefix2 prefix1 postfix4 postfix3 postfix2 postfix1  \\\n",
       "59376       .       .       .       .        .        .        .        .   \n",
       "59377    пути     пут      пу       п     утин      тин       ин        н   \n",
       "59378       :       :       :       :        :        :        :        :   \n",
       "59379    хоро     хор      хо       х     рошо      ошо       шо        о   \n",
       "59380       .       .       .       .        .        .        .        .   \n",
       "\n",
       "       posStart  pos     ...     +1_1dom_islower  +1_1dom_isdigit  \\\n",
       "59376      6428  MID     ...                   0                0   \n",
       "59377      6429    S     ...                   0                0   \n",
       "59378      6434  MID     ...                   0                0   \n",
       "59379      6436    A     ...                   0                0   \n",
       "59380      6442  MAD     ...                   0                0   \n",
       "\n",
       "      +1_1dom_isalpha  +1_1dom_isalnum  +1_1dom_isLastWord  \\\n",
       "59376               0                0                   0   \n",
       "59377               0                0                   0   \n",
       "59378               0                0                   0   \n",
       "59379               0                0                   0   \n",
       "59380               0                0                   0   \n",
       "\n",
       "       +1_1dom_isFirstWord  +1_1dom_grm  +1_1dom_forma  +1_1dom_dom  \\\n",
       "59376                    0          NaN              :          4.0   \n",
       "59377                    0          NaN              :          4.0   \n",
       "59378                    0          NaN            NaN          NaN   \n",
       "59379                    0          NaN              :          4.0   \n",
       "59380                    0          NaN            NaN          NaN   \n",
       "\n",
       "       +1_1dom_ID  \n",
       "59376         4.0  \n",
       "59377         4.0  \n",
       "59378         NaN  \n",
       "59379         4.0  \n",
       "59380         NaN  \n",
       "\n",
       "[5 rows x 825 columns]"
      ]
     },
     "execution_count": 5,
     "metadata": {},
     "output_type": "execute_result"
    }
   ],
   "source": [
    "df.tail()"
   ]
  },
  {
   "cell_type": "code",
   "execution_count": null,
   "metadata": {
    "collapsed": false
   },
   "outputs": [],
   "source": [
    "df.head()"
   ]
  },
  {
   "cell_type": "code",
   "execution_count": null,
   "metadata": {
    "collapsed": true
   },
   "outputs": [],
   "source": [
    "ff = open()"
   ]
  },
  {
   "cell_type": "code",
   "execution_count": null,
   "metadata": {
    "collapsed": false
   },
   "outputs": [],
   "source": [
    "s = df.iloc[0]"
   ]
  },
  {
   "cell_type": "code",
   "execution_count": null,
   "metadata": {
    "collapsed": true
   },
   "outputs": [],
   "source": [
    "s.to_csv('./row.csv')"
   ]
  },
  {
   "cell_type": "code",
   "execution_count": null,
   "metadata": {
    "collapsed": false
   },
   "outputs": [],
   "source": [
    "df = pd.read_csv('../data/processed/Dialog_test/NER_testset.targets.csv')"
   ]
  },
  {
   "cell_type": "code",
   "execution_count": null,
   "metadata": {
    "collapsed": false
   },
   "outputs": [],
   "source": [
    "df.head()"
   ]
  },
  {
   "cell_type": "code",
   "execution_count": null,
   "metadata": {
    "collapsed": false
   },
   "outputs": [],
   "source": [
    "df.iloc[1]['mark']"
   ]
  },
  {
   "cell_type": "code",
   "execution_count": null,
   "metadata": {
    "collapsed": true
   },
   "outputs": [],
   "source": []
  }
 ],
 "metadata": {
  "kernelspec": {
   "display_name": "Python 2",
   "language": "python",
   "name": "python2"
  },
  "language_info": {
   "codemirror_mode": {
    "name": "ipython",
    "version": 2
   },
   "file_extension": ".py",
   "mimetype": "text/x-python",
   "name": "python",
   "nbconvert_exporter": "python",
   "pygments_lexer": "ipython2",
   "version": "2.7.12"
  }
 },
 "nbformat": 4,
 "nbformat_minor": 1
}
